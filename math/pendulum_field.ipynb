{
 "cells": [
  {
   "cell_type": "code",
   "execution_count": 1,
   "id": "766ab3fa",
   "metadata": {},
   "outputs": [],
   "source": [
    "import numpy as np"
   ]
  },
  {
   "cell_type": "code",
   "execution_count": 2,
   "id": "9253d63a",
   "metadata": {},
   "outputs": [],
   "source": [
    "from src.pendulum import Pendulum"
   ]
  },
  {
   "cell_type": "code",
   "execution_count": 3,
   "id": "5fa2cd51",
   "metadata": {},
   "outputs": [
    {
     "ename": "AttributeError",
     "evalue": "property 'state' of 'Pendulum' object has no setter",
     "output_type": "error",
     "traceback": [
      "\u001b[1;31m---------------------------------------------------------------------------\u001b[0m",
      "\u001b[1;31mAttributeError\u001b[0m                            Traceback (most recent call last)",
      "Cell \u001b[1;32mIn[3], line 1\u001b[0m\n\u001b[1;32m----> 1\u001b[0m pendulum \u001b[38;5;241m=\u001b[39m \u001b[43mPendulum\u001b[49m\u001b[43m(\u001b[49m\u001b[43m)\u001b[49m\n\u001b[0;32m      2\u001b[0m pendulum\u001b[38;5;241m.\u001b[39mset_state \u001b[38;5;241m=\u001b[39m np\u001b[38;5;241m.\u001b[39marray([\u001b[38;5;241m0\u001b[39m, \u001b[38;5;241m1\u001b[39m])\n\u001b[0;32m      3\u001b[0m pendulum\u001b[38;5;241m.\u001b[39mstate\n",
      "File \u001b[1;32mc:\\GitHub\\diplom\\math\\src\\pendulum.py:16\u001b[0m, in \u001b[0;36mPendulum.__init__\u001b[1;34m(self, mass, length, damping, gravity, init_state, dt)\u001b[0m\n\u001b[0;32m     14\u001b[0m \u001b[38;5;28mself\u001b[39m\u001b[38;5;241m.\u001b[39mdamping \u001b[38;5;241m=\u001b[39m damping\n\u001b[0;32m     15\u001b[0m \u001b[38;5;28mself\u001b[39m\u001b[38;5;241m.\u001b[39mgravity \u001b[38;5;241m=\u001b[39m gravity\n\u001b[1;32m---> 16\u001b[0m \u001b[38;5;28;43mself\u001b[39;49m\u001b[38;5;241;43m.\u001b[39;49m\u001b[43mstate\u001b[49m \u001b[38;5;241m=\u001b[39m init_state\n\u001b[0;32m     17\u001b[0m \u001b[38;5;28mself\u001b[39m\u001b[38;5;241m.\u001b[39mdt \u001b[38;5;241m=\u001b[39m dt\n\u001b[0;32m     18\u001b[0m \u001b[38;5;28mself\u001b[39m\u001b[38;5;241m.\u001b[39mg \u001b[38;5;241m=\u001b[39m gravity\n",
      "\u001b[1;31mAttributeError\u001b[0m: property 'state' of 'Pendulum' object has no setter"
     ]
    }
   ],
   "source": [
    "pendulum = Pendulum()\n",
    "pendulum.set_state = np.array([0, 1])\n",
    "pendulum.state"
   ]
  }
 ],
 "metadata": {
  "kernelspec": {
   "display_name": "Python 3",
   "language": "python",
   "name": "python3"
  },
  "language_info": {
   "codemirror_mode": {
    "name": "ipython",
    "version": 3
   },
   "file_extension": ".py",
   "mimetype": "text/x-python",
   "name": "python",
   "nbconvert_exporter": "python",
   "pygments_lexer": "ipython3",
   "version": "3.12.10"
  }
 },
 "nbformat": 4,
 "nbformat_minor": 5
}
