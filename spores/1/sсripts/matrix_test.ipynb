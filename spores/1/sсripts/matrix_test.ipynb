{
 "cells": [
  {
   "cell_type": "code",
   "execution_count": 4,
   "metadata": {},
   "outputs": [],
   "source": [
    "# Настройка импорта\n",
    "import sys\n",
    "import os\n",
    "import numpy as np\n",
    "\n",
    "# Получаем абсолютный путь к директории spores/1 (один уровень вверх от scripts)\n",
    "project_root = os.path.abspath(os.path.join('..'))\n",
    "sys.path.append(project_root)\n",
    "\n",
    "# Теперь можно импортировать модули из src\n",
    "from src.pendulum import PendulumSystem"
   ]
  },
  {
   "cell_type": "code",
   "execution_count": 6,
   "metadata": {},
   "outputs": [
    {
     "name": "stdout",
     "output_type": "stream",
     "text": [
      "\n",
      "Расширенная матрица (A*dt, B*dt):\n",
      "Φ_matrix = \n",
      "[[ 0.      0.1     0.    ]\n",
      " [-0.4905  0.      0.1   ]\n",
      " [ 0.      0.      0.    ]]\n",
      "\n",
      "Матричная экспонента exp(Φ_matrix):\n",
      "Φ = \n",
      "[[ 0.97557508  0.0991845   0.0049796 ]\n",
      " [-0.48649999  0.97557508  0.0991845 ]\n",
      " [ 0.          0.          1.        ]]\n",
      "\n",
      "Дискретные матрицы:\n",
      "A_discrete = \n",
      "[[ 0.97557508  0.0991845 ]\n",
      " [-0.48649999  0.97557508]]\n",
      "B_discrete = \n",
      "[[0.0049796]\n",
      " [0.0991845]]\n"
     ]
    }
   ],
   "source": [
    "pendulum = PendulumSystem(dt=0.1)"
   ]
  },
  {
   "cell_type": "code",
   "execution_count": 7,
   "metadata": {},
   "outputs": [
    {
     "name": "stdout",
     "output_type": "stream",
     "text": [
      "[[ 0.97557508  0.0991845 ]\n",
      " [-0.48649999  0.97557508]]\n",
      "\n",
      "[[0.0049796]\n",
      " [0.0991845]]\n"
     ]
    }
   ],
   "source": [
    "print(pendulum.A_discrete)\n",
    "print()\n",
    "print(pendulum.B_discrete)"
   ]
  },
  {
   "cell_type": "code",
   "execution_count": 8,
   "metadata": {},
   "outputs": [
    {
     "data": {
      "text/plain": [
       "array([0.0991845 , 0.97557508])"
      ]
     },
     "execution_count": 8,
     "metadata": {},
     "output_type": "execute_result"
    }
   ],
   "source": [
    "pendulum.A_discrete @ np.array([0, 1])"
   ]
  },
  {
   "cell_type": "code",
   "execution_count": null,
   "metadata": {},
   "outputs": [],
   "source": []
  }
 ],
 "metadata": {
  "kernelspec": {
   "display_name": "Python 3",
   "language": "python",
   "name": "python3"
  },
  "language_info": {
   "codemirror_mode": {
    "name": "ipython",
    "version": 3
   },
   "file_extension": ".py",
   "mimetype": "text/x-python",
   "name": "python",
   "nbconvert_exporter": "python",
   "pygments_lexer": "ipython3",
   "version": "3.12.10"
  }
 },
 "nbformat": 4,
 "nbformat_minor": 2
}
