{
 "cells": [
  {
   "cell_type": "code",
   "execution_count": 1,
   "metadata": {},
   "outputs": [],
   "source": [
    "import numpy as np\n",
    "import matplotlib.pyplot as plt\n",
    "import os, sys"
   ]
  },
  {
   "cell_type": "code",
   "execution_count": 2,
   "metadata": {},
   "outputs": [],
   "source": [
    "project_root = os.path.abspath(os.path.join(os.getcwd(), '..'))\n",
    "sys.path.append(project_root)"
   ]
  },
  {
   "cell_type": "code",
   "execution_count": 3,
   "metadata": {},
   "outputs": [],
   "source": [
    "from src.pendulum import PendulumSystem\n",
    "from src.spore import Spore"
   ]
  },
  {
   "cell_type": "code",
   "execution_count": 4,
   "metadata": {},
   "outputs": [
    {
     "name": "stdout",
     "output_type": "stream",
     "text": [
      "\u001b[93mwarning: Tried to instantiate Entity before Ursina. Please create an instance of Ursina first (app = Ursina()) Traceback(filename='c:\\\\GitHub\\\\spores\\\\6\\\\src\\\\scalable.py', lineno=6, function='__init__', code_context=['        super().__init__(*args, **kwargs)\\n'], index=0, positions=Positions(lineno=6, end_lineno=6, col_offset=8, end_col_offset=41)) \u001b[0m\n",
      "A\n",
      "[[ 0.     1.   ]\n",
      " [-4.905 -0.1  ]]\n",
      "\n",
      "B\n",
      "[[0.]\n",
      " [1.]]\n",
      "\n",
      "cost 9.86960506439209\n"
     ]
    }
   ],
   "source": [
    "pendulum = PendulumSystem()\n",
    "spore = Spore(dt=0.01, \n",
    "              pendulum=pendulum, \n",
    "              goal_position=(np.pi, 0))\n",
    "\n",
    "A_cont, B_cont = pendulum.linearize_continuous((0, 0))\n",
    "\n",
    "print('A')\n",
    "print(A_cont)\n",
    "print()\n",
    "print('B')\n",
    "print(B_cont)\n",
    "print()\n",
    "print('cost', spore.cost)"
   ]
  },
  {
   "cell_type": "code",
   "execution_count": 5,
   "metadata": {},
   "outputs": [
    {
     "name": "stdout",
     "output_type": "stream",
     "text": [
      "A\n",
      "[[1.      1.01   ]\n",
      " [0.95095 0.999  ]]\n",
      "\n",
      "B\n",
      "[[0.  ]\n",
      " [0.01]]\n",
      "\n",
      "cost 9.86960506439209\n",
      "controls\n",
      "[-1.         -0.77777778 -0.55555556 -0.33333333 -0.11111111  0.11111111\n",
      "  0.33333333  0.55555556  0.77777778  1.        ]\n",
      "\n",
      "next_states\n",
      "[[-0.00496305 -0.09869023]\n",
      " [-0.00386015 -0.07675907]\n",
      " [-0.00275725 -0.05482791]\n",
      " [-0.00165435 -0.03289674]\n",
      " [-0.00055145 -0.01096558]\n",
      " [ 0.00055145  0.01096558]\n",
      " [ 0.00165435  0.03289674]\n",
      " [ 0.00275725  0.05482791]\n",
      " [ 0.00386015  0.07675907]\n",
      " [ 0.00496305  0.09869023]]\n",
      "\n"
     ]
    },
    {
     "ename": "",
     "evalue": "",
     "output_type": "error",
     "traceback": [
      "\u001b[1;31mThe Kernel crashed while executing code in the current cell or a previous cell. \n",
      "\u001b[1;31mPlease review the code in the cell(s) to identify a possible cause of the failure. \n",
      "\u001b[1;31mClick <a href='https://aka.ms/vscodeJupyterKernelCrash'>here</a> for more info. \n",
      "\u001b[1;31mView Jupyter <a href='command:jupyter.viewOutput'>log</a> for further details."
     ]
    }
   ],
   "source": [
    "dt = 0.01\n",
    "\n",
    "A = 1 + A_cont * dt\n",
    "B = B_cont * dt\n",
    "\n",
    "controls = spore.sample_mesh_controls(10)\n",
    "next_states = spore.simulate_controls(controls)\n",
    "\n",
    "print('A')\n",
    "print(A)\n",
    "print()\n",
    "print('B')\n",
    "print(B)\n",
    "print()\n",
    "print('cost', spore.cost)\n",
    "\n",
    "print('controls')\n",
    "print(controls)\n",
    "print()\n",
    "\n",
    "print('next_states')\n",
    "print(next_states)\n",
    "print()"
   ]
  }
 ],
 "metadata": {
  "kernelspec": {
   "display_name": "Python 3",
   "language": "python",
   "name": "python3"
  },
  "language_info": {
   "codemirror_mode": {
    "name": "ipython",
    "version": 3
   },
   "file_extension": ".py",
   "mimetype": "text/x-python",
   "name": "python",
   "nbconvert_exporter": "python",
   "pygments_lexer": "ipython3",
   "version": "3.12.10"
  }
 },
 "nbformat": 4,
 "nbformat_minor": 2
}
